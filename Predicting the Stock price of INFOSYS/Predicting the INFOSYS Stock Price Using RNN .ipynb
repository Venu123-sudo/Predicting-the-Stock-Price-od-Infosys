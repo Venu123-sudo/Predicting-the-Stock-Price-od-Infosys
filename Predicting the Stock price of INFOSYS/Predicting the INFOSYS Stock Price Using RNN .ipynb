{
  "nbformat": 4,
  "nbformat_minor": 0,
  "metadata": {
    "kernelspec": {
      "display_name": "Python 3",
      "language": "python",
      "name": "python3"
    },
    "language_info": {
      "codemirror_mode": {
        "name": "ipython",
        "version": 3
      },
      "file_extension": ".py",
      "mimetype": "text/x-python",
      "name": "python",
      "nbconvert_exporter": "python",
      "pygments_lexer": "ipython3",
      "version": "3.8.8"
    },
    "colab": {
      "name": "Predicted stock price of infosys .ipynb",
      "provenance": [],
      "collapsed_sections": []
    },
    "accelerator": "GPU"
  },
  "cells": [
    {
      "cell_type": "markdown",
      "metadata": {
        "id": "q0Nw70O7RBQi"
      },
      "source": [
        "## Predicting the Stock Price of INFOSYS using Deep learing RNN (LSTM) method\n",
        "\n",
        "### Project Description: \n",
        "In this project i am going to Predict the closing price of a Corporation named(Infosys Ltd) using the past data of that company stock price, I have used the  Recurrent Neural Network called Long Short Term Memory (LSTM) for predicting the stock price of Infosys for the next day or 5 days"
      ]
    },
    {
      "cell_type": "markdown",
      "metadata": {
        "id": "NYgeVryDymvF"
      },
      "source": [
        "#### Importing the Necessary libraries"
      ]
    },
    {
      "cell_type": "code",
      "metadata": {
        "id": "apDk7manNVhG"
      },
      "source": [
        "import math\n",
        "import numpy as np\n",
        "import pandas as pd\n",
        "from datetime import datetime\n",
        "import matplotlib.pyplot as plt\n",
        "plt.style.use('fivethirtyeight')\n",
        "import seaborn as sns\n",
        "sns.set_style(\"whitegrid\")\n",
        "from sklearn.preprocessing import MinMaxScaler\n",
        "from keras.models import Sequential\n",
        "from keras.layers import Dense, LSTM\n",
        "from keras.layers import Dropout\n",
        "import warnings\n",
        "warnings.filterwarnings('ignore')"
      ],
      "execution_count": 51,
      "outputs": []
    },
    {
      "cell_type": "markdown",
      "metadata": {
        "id": "tAVHaVlkyxwd"
      },
      "source": [
        "#### Read the Dataset for the further analysis"
      ]
    },
    {
      "cell_type": "code",
      "metadata": {
        "id": "ePhnLv_ONVhH"
      },
      "source": [
        "## Importing the dataset\n",
        "df=pd.read_csv(\"INFY.csv\")"
      ],
      "execution_count": 41,
      "outputs": []
    },
    {
      "cell_type": "code",
      "metadata": {
        "colab": {
          "base_uri": "https://localhost:8080/",
          "height": 202
        },
        "id": "x99wvwj9NVhH",
        "outputId": "6a0653d7-d90a-4a7f-da3a-76b6e49b20c7"
      },
      "source": [
        "### Checking the head section of data\n",
        "df.head()"
      ],
      "execution_count": 42,
      "outputs": [
        {
          "output_type": "execute_result",
          "data": {
            "text/html": [
              "<div>\n",
              "<style scoped>\n",
              "    .dataframe tbody tr th:only-of-type {\n",
              "        vertical-align: middle;\n",
              "    }\n",
              "\n",
              "    .dataframe tbody tr th {\n",
              "        vertical-align: top;\n",
              "    }\n",
              "\n",
              "    .dataframe thead th {\n",
              "        text-align: right;\n",
              "    }\n",
              "</style>\n",
              "<table border=\"1\" class=\"dataframe\">\n",
              "  <thead>\n",
              "    <tr style=\"text-align: right;\">\n",
              "      <th></th>\n",
              "      <th>Date</th>\n",
              "      <th>Open</th>\n",
              "      <th>High</th>\n",
              "      <th>Low</th>\n",
              "      <th>Close</th>\n",
              "      <th>Adj Close</th>\n",
              "      <th>Volume</th>\n",
              "    </tr>\n",
              "  </thead>\n",
              "  <tbody>\n",
              "    <tr>\n",
              "      <th>0</th>\n",
              "      <td>2019-02-12</td>\n",
              "      <td>10.85</td>\n",
              "      <td>10.86</td>\n",
              "      <td>10.76</td>\n",
              "      <td>10.77</td>\n",
              "      <td>10.491853</td>\n",
              "      <td>6300600</td>\n",
              "    </tr>\n",
              "    <tr>\n",
              "      <th>1</th>\n",
              "      <td>2019-02-13</td>\n",
              "      <td>10.85</td>\n",
              "      <td>10.87</td>\n",
              "      <td>10.77</td>\n",
              "      <td>10.80</td>\n",
              "      <td>10.521078</td>\n",
              "      <td>9532300</td>\n",
              "    </tr>\n",
              "    <tr>\n",
              "      <th>2</th>\n",
              "      <td>2019-02-14</td>\n",
              "      <td>10.65</td>\n",
              "      <td>10.76</td>\n",
              "      <td>10.62</td>\n",
              "      <td>10.76</td>\n",
              "      <td>10.482111</td>\n",
              "      <td>8443400</td>\n",
              "    </tr>\n",
              "    <tr>\n",
              "      <th>3</th>\n",
              "      <td>2019-02-15</td>\n",
              "      <td>10.68</td>\n",
              "      <td>10.78</td>\n",
              "      <td>10.64</td>\n",
              "      <td>10.76</td>\n",
              "      <td>10.482111</td>\n",
              "      <td>9269100</td>\n",
              "    </tr>\n",
              "    <tr>\n",
              "      <th>4</th>\n",
              "      <td>2019-02-19</td>\n",
              "      <td>10.47</td>\n",
              "      <td>10.57</td>\n",
              "      <td>10.38</td>\n",
              "      <td>10.55</td>\n",
              "      <td>10.277534</td>\n",
              "      <td>13443300</td>\n",
              "    </tr>\n",
              "  </tbody>\n",
              "</table>\n",
              "</div>"
            ],
            "text/plain": [
              "         Date   Open   High    Low  Close  Adj Close    Volume\n",
              "0  2019-02-12  10.85  10.86  10.76  10.77  10.491853   6300600\n",
              "1  2019-02-13  10.85  10.87  10.77  10.80  10.521078   9532300\n",
              "2  2019-02-14  10.65  10.76  10.62  10.76  10.482111   8443400\n",
              "3  2019-02-15  10.68  10.78  10.64  10.76  10.482111   9269100\n",
              "4  2019-02-19  10.47  10.57  10.38  10.55  10.277534  13443300"
            ]
          },
          "metadata": {
            "tags": []
          },
          "execution_count": 42
        }
      ]
    },
    {
      "cell_type": "code",
      "metadata": {
        "colab": {
          "base_uri": "https://localhost:8080/",
          "height": 202
        },
        "id": "dMrraOXQNVhJ",
        "outputId": "919bfd95-432e-45bc-90f9-95ddd1ca7202"
      },
      "source": [
        "df.tail()"
      ],
      "execution_count": 43,
      "outputs": [
        {
          "output_type": "execute_result",
          "data": {
            "text/html": [
              "<div>\n",
              "<style scoped>\n",
              "    .dataframe tbody tr th:only-of-type {\n",
              "        vertical-align: middle;\n",
              "    }\n",
              "\n",
              "    .dataframe tbody tr th {\n",
              "        vertical-align: top;\n",
              "    }\n",
              "\n",
              "    .dataframe thead th {\n",
              "        text-align: right;\n",
              "    }\n",
              "</style>\n",
              "<table border=\"1\" class=\"dataframe\">\n",
              "  <thead>\n",
              "    <tr style=\"text-align: right;\">\n",
              "      <th></th>\n",
              "      <th>Date</th>\n",
              "      <th>Open</th>\n",
              "      <th>High</th>\n",
              "      <th>Low</th>\n",
              "      <th>Close</th>\n",
              "      <th>Adj Close</th>\n",
              "      <th>Volume</th>\n",
              "    </tr>\n",
              "  </thead>\n",
              "  <tbody>\n",
              "    <tr>\n",
              "      <th>247</th>\n",
              "      <td>2020-02-05</td>\n",
              "      <td>11.10</td>\n",
              "      <td>11.13</td>\n",
              "      <td>11.03</td>\n",
              "      <td>11.04</td>\n",
              "      <td>11.04</td>\n",
              "      <td>10488300</td>\n",
              "    </tr>\n",
              "    <tr>\n",
              "      <th>248</th>\n",
              "      <td>2020-02-06</td>\n",
              "      <td>10.97</td>\n",
              "      <td>11.04</td>\n",
              "      <td>10.95</td>\n",
              "      <td>10.96</td>\n",
              "      <td>10.96</td>\n",
              "      <td>16312500</td>\n",
              "    </tr>\n",
              "    <tr>\n",
              "      <th>249</th>\n",
              "      <td>2020-02-07</td>\n",
              "      <td>10.95</td>\n",
              "      <td>10.99</td>\n",
              "      <td>10.84</td>\n",
              "      <td>10.85</td>\n",
              "      <td>10.85</td>\n",
              "      <td>8140300</td>\n",
              "    </tr>\n",
              "    <tr>\n",
              "      <th>250</th>\n",
              "      <td>2020-02-10</td>\n",
              "      <td>10.85</td>\n",
              "      <td>10.96</td>\n",
              "      <td>10.83</td>\n",
              "      <td>10.92</td>\n",
              "      <td>10.92</td>\n",
              "      <td>4589700</td>\n",
              "    </tr>\n",
              "    <tr>\n",
              "      <th>251</th>\n",
              "      <td>2020-02-11</td>\n",
              "      <td>10.97</td>\n",
              "      <td>11.03</td>\n",
              "      <td>10.93</td>\n",
              "      <td>10.95</td>\n",
              "      <td>10.95</td>\n",
              "      <td>6526500</td>\n",
              "    </tr>\n",
              "  </tbody>\n",
              "</table>\n",
              "</div>"
            ],
            "text/plain": [
              "           Date   Open   High    Low  Close  Adj Close    Volume\n",
              "247  2020-02-05  11.10  11.13  11.03  11.04      11.04  10488300\n",
              "248  2020-02-06  10.97  11.04  10.95  10.96      10.96  16312500\n",
              "249  2020-02-07  10.95  10.99  10.84  10.85      10.85   8140300\n",
              "250  2020-02-10  10.85  10.96  10.83  10.92      10.92   4589700\n",
              "251  2020-02-11  10.97  11.03  10.93  10.95      10.95   6526500"
            ]
          },
          "metadata": {
            "tags": []
          },
          "execution_count": 43
        }
      ]
    },
    {
      "cell_type": "markdown",
      "metadata": {
        "id": "15VL3BuIzIU2"
      },
      "source": [
        "#### Checking the shape of the dataset"
      ]
    },
    {
      "cell_type": "code",
      "metadata": {
        "colab": {
          "base_uri": "https://localhost:8080/"
        },
        "id": "pvb3AMVBTz-g",
        "outputId": "f10133b6-6124-44b1-90e8-d17d8d7bee9b"
      },
      "source": [
        "## Get the Number of rows and columns in the dataset\n",
        "df.shape "
      ],
      "execution_count": 45,
      "outputs": [
        {
          "output_type": "execute_result",
          "data": {
            "text/plain": [
              "(252, 7)"
            ]
          },
          "metadata": {
            "tags": []
          },
          "execution_count": 45
        }
      ]
    },
    {
      "cell_type": "code",
      "metadata": {
        "colab": {
          "base_uri": "https://localhost:8080/"
        },
        "id": "XzahSdEeqisF",
        "outputId": "4fd5f61d-9d0a-4ecc-8f90-70b78b256f25"
      },
      "source": [
        "### Checking the data information\n",
        "\n",
        "df.info()"
      ],
      "execution_count": 46,
      "outputs": [
        {
          "output_type": "stream",
          "text": [
            "<class 'pandas.core.frame.DataFrame'>\n",
            "RangeIndex: 252 entries, 0 to 251\n",
            "Data columns (total 7 columns):\n",
            " #   Column     Non-Null Count  Dtype  \n",
            "---  ------     --------------  -----  \n",
            " 0   Date       252 non-null    object \n",
            " 1   Open       252 non-null    float64\n",
            " 2   High       252 non-null    float64\n",
            " 3   Low        252 non-null    float64\n",
            " 4   Close      252 non-null    float64\n",
            " 5   Adj Close  252 non-null    float64\n",
            " 6   Volume     252 non-null    int64  \n",
            "dtypes: float64(5), int64(1), object(1)\n",
            "memory usage: 13.9+ KB\n"
          ],
          "name": "stdout"
        }
      ]
    },
    {
      "cell_type": "markdown",
      "metadata": {
        "id": "C8MJmR_hzSPM"
      },
      "source": [
        "#### Checking for the Null values to consider that our dataset is neat to do further steps"
      ]
    },
    {
      "cell_type": "code",
      "metadata": {
        "colab": {
          "base_uri": "https://localhost:8080/"
        },
        "id": "RLh5VInKqxhU",
        "outputId": "ac1d515c-cc12-4ba7-b00c-0989101ce163"
      },
      "source": [
        "### Checking for Null values in the dataset\n",
        "df.isna().sum()"
      ],
      "execution_count": 47,
      "outputs": [
        {
          "output_type": "execute_result",
          "data": {
            "text/plain": [
              "Date         0\n",
              "Open         0\n",
              "High         0\n",
              "Low          0\n",
              "Close        0\n",
              "Adj Close    0\n",
              "Volume       0\n",
              "dtype: int64"
            ]
          },
          "metadata": {
            "tags": []
          },
          "execution_count": 47
        }
      ]
    },
    {
      "cell_type": "markdown",
      "metadata": {
        "id": "ImhTuYdizl3w"
      },
      "source": [
        "#### Looking the Statistical Overiew of Dataset using the describe method"
      ]
    },
    {
      "cell_type": "code",
      "metadata": {
        "colab": {
          "base_uri": "https://localhost:8080/",
          "height": 387
        },
        "id": "8zzds_kwq7_m",
        "outputId": "c705a2c6-7309-45ba-e2e1-495a623f8d4e"
      },
      "source": [
        "### Describing the data to look the statistical overview of the dataset\n",
        "df.describe(include='all')"
      ],
      "execution_count": 48,
      "outputs": [
        {
          "output_type": "execute_result",
          "data": {
            "text/html": [
              "<div>\n",
              "<style scoped>\n",
              "    .dataframe tbody tr th:only-of-type {\n",
              "        vertical-align: middle;\n",
              "    }\n",
              "\n",
              "    .dataframe tbody tr th {\n",
              "        vertical-align: top;\n",
              "    }\n",
              "\n",
              "    .dataframe thead th {\n",
              "        text-align: right;\n",
              "    }\n",
              "</style>\n",
              "<table border=\"1\" class=\"dataframe\">\n",
              "  <thead>\n",
              "    <tr style=\"text-align: right;\">\n",
              "      <th></th>\n",
              "      <th>Date</th>\n",
              "      <th>Open</th>\n",
              "      <th>High</th>\n",
              "      <th>Low</th>\n",
              "      <th>Close</th>\n",
              "      <th>Adj Close</th>\n",
              "      <th>Volume</th>\n",
              "    </tr>\n",
              "  </thead>\n",
              "  <tbody>\n",
              "    <tr>\n",
              "      <th>count</th>\n",
              "      <td>252</td>\n",
              "      <td>252.000000</td>\n",
              "      <td>252.000000</td>\n",
              "      <td>252.000000</td>\n",
              "      <td>252.000000</td>\n",
              "      <td>252.000000</td>\n",
              "      <td>2.520000e+02</td>\n",
              "    </tr>\n",
              "    <tr>\n",
              "      <th>unique</th>\n",
              "      <td>252</td>\n",
              "      <td>NaN</td>\n",
              "      <td>NaN</td>\n",
              "      <td>NaN</td>\n",
              "      <td>NaN</td>\n",
              "      <td>NaN</td>\n",
              "      <td>NaN</td>\n",
              "    </tr>\n",
              "    <tr>\n",
              "      <th>top</th>\n",
              "      <td>2019-12-26</td>\n",
              "      <td>NaN</td>\n",
              "      <td>NaN</td>\n",
              "      <td>NaN</td>\n",
              "      <td>NaN</td>\n",
              "      <td>NaN</td>\n",
              "      <td>NaN</td>\n",
              "    </tr>\n",
              "    <tr>\n",
              "      <th>freq</th>\n",
              "      <td>1</td>\n",
              "      <td>NaN</td>\n",
              "      <td>NaN</td>\n",
              "      <td>NaN</td>\n",
              "      <td>NaN</td>\n",
              "      <td>NaN</td>\n",
              "      <td>NaN</td>\n",
              "    </tr>\n",
              "    <tr>\n",
              "      <th>mean</th>\n",
              "      <td>NaN</td>\n",
              "      <td>10.670913</td>\n",
              "      <td>10.748135</td>\n",
              "      <td>10.590714</td>\n",
              "      <td>10.667817</td>\n",
              "      <td>10.527684</td>\n",
              "      <td>1.196518e+07</td>\n",
              "    </tr>\n",
              "    <tr>\n",
              "      <th>std</th>\n",
              "      <td>NaN</td>\n",
              "      <td>0.590157</td>\n",
              "      <td>0.583960</td>\n",
              "      <td>0.585442</td>\n",
              "      <td>0.582393</td>\n",
              "      <td>0.557672</td>\n",
              "      <td>8.444294e+06</td>\n",
              "    </tr>\n",
              "    <tr>\n",
              "      <th>min</th>\n",
              "      <td>NaN</td>\n",
              "      <td>8.920000</td>\n",
              "      <td>8.990000</td>\n",
              "      <td>8.760000</td>\n",
              "      <td>8.930000</td>\n",
              "      <td>8.930000</td>\n",
              "      <td>1.730800e+06</td>\n",
              "    </tr>\n",
              "    <tr>\n",
              "      <th>25%</th>\n",
              "      <td>NaN</td>\n",
              "      <td>10.307500</td>\n",
              "      <td>10.360000</td>\n",
              "      <td>10.230000</td>\n",
              "      <td>10.297500</td>\n",
              "      <td>10.170281</td>\n",
              "      <td>6.945975e+06</td>\n",
              "    </tr>\n",
              "    <tr>\n",
              "      <th>50%</th>\n",
              "      <td>NaN</td>\n",
              "      <td>10.700000</td>\n",
              "      <td>10.770000</td>\n",
              "      <td>10.645000</td>\n",
              "      <td>10.720000</td>\n",
              "      <td>10.491647</td>\n",
              "      <td>9.298100e+06</td>\n",
              "    </tr>\n",
              "    <tr>\n",
              "      <th>75%</th>\n",
              "      <td>NaN</td>\n",
              "      <td>11.072500</td>\n",
              "      <td>11.160000</td>\n",
              "      <td>11.002500</td>\n",
              "      <td>11.072500</td>\n",
              "      <td>10.961408</td>\n",
              "      <td>1.370500e+07</td>\n",
              "    </tr>\n",
              "    <tr>\n",
              "      <th>max</th>\n",
              "      <td>NaN</td>\n",
              "      <td>12.020000</td>\n",
              "      <td>12.080000</td>\n",
              "      <td>11.810000</td>\n",
              "      <td>12.070000</td>\n",
              "      <td>11.923887</td>\n",
              "      <td>7.716540e+07</td>\n",
              "    </tr>\n",
              "  </tbody>\n",
              "</table>\n",
              "</div>"
            ],
            "text/plain": [
              "              Date        Open  ...   Adj Close        Volume\n",
              "count          252  252.000000  ...  252.000000  2.520000e+02\n",
              "unique         252         NaN  ...         NaN           NaN\n",
              "top     2019-12-26         NaN  ...         NaN           NaN\n",
              "freq             1         NaN  ...         NaN           NaN\n",
              "mean           NaN   10.670913  ...   10.527684  1.196518e+07\n",
              "std            NaN    0.590157  ...    0.557672  8.444294e+06\n",
              "min            NaN    8.920000  ...    8.930000  1.730800e+06\n",
              "25%            NaN   10.307500  ...   10.170281  6.945975e+06\n",
              "50%            NaN   10.700000  ...   10.491647  9.298100e+06\n",
              "75%            NaN   11.072500  ...   10.961408  1.370500e+07\n",
              "max            NaN   12.020000  ...   11.923887  7.716540e+07\n",
              "\n",
              "[11 rows x 7 columns]"
            ]
          },
          "metadata": {
            "tags": []
          },
          "execution_count": 48
        }
      ]
    },
    {
      "cell_type": "code",
      "metadata": {
        "colab": {
          "base_uri": "https://localhost:8080/"
        },
        "id": "WZvE4U2HrJXy",
        "outputId": "b2d816b0-b131-495e-9b83-ef412b8f72ff"
      },
      "source": [
        "## Checking for the number of unqiue values in the dataset\n",
        "df.nunique()"
      ],
      "execution_count": 49,
      "outputs": [
        {
          "output_type": "execute_result",
          "data": {
            "text/plain": [
              "Date         252\n",
              "Open         151\n",
              "High         152\n",
              "Low          141\n",
              "Close        152\n",
              "Adj Close    183\n",
              "Volume       252\n",
              "dtype: int64"
            ]
          },
          "metadata": {
            "tags": []
          },
          "execution_count": 49
        }
      ]
    },
    {
      "cell_type": "markdown",
      "metadata": {
        "id": "cHimEs0nscuk"
      },
      "source": [
        "#### Let us do some **Feature Engineering** to get more details about the data"
      ]
    },
    {
      "cell_type": "code",
      "metadata": {
        "colab": {
          "base_uri": "https://localhost:8080/",
          "height": 233
        },
        "id": "gC8_Bb6LrToY",
        "outputId": "4c095895-967f-459a-9c6e-61735a794c16"
      },
      "source": [
        "#Creating a copy\n",
        "df_analysis=df.copy()\n",
        "\n",
        "#Coverting date column to datetime data type\n",
        "df_analysis['Date'] = df_analysis['Date'].apply(pd.to_datetime)\n",
        "\n",
        "#Extracting Month, Week, Day,Day of week\n",
        "df_analysis[\"Month\"] = df_analysis.Date.dt.month\n",
        "df_analysis[\"Week\"] = df_analysis.Date.dt.week\n",
        "df_analysis[\"Day\"] = df_analysis.Date.dt.day\n",
        "df_analysis[\"Day of week\"] = df_analysis.Date.dt.dayofweek\n",
        "\n",
        "\n",
        "#Setting date column as index\n",
        "df_analysis.set_index(\"Date\", drop=False, inplace=True)\n",
        "df_analysis.iloc[:,7:11].head()"
      ],
      "execution_count": 52,
      "outputs": [
        {
          "output_type": "execute_result",
          "data": {
            "text/html": [
              "<div>\n",
              "<style scoped>\n",
              "    .dataframe tbody tr th:only-of-type {\n",
              "        vertical-align: middle;\n",
              "    }\n",
              "\n",
              "    .dataframe tbody tr th {\n",
              "        vertical-align: top;\n",
              "    }\n",
              "\n",
              "    .dataframe thead th {\n",
              "        text-align: right;\n",
              "    }\n",
              "</style>\n",
              "<table border=\"1\" class=\"dataframe\">\n",
              "  <thead>\n",
              "    <tr style=\"text-align: right;\">\n",
              "      <th></th>\n",
              "      <th>Month</th>\n",
              "      <th>Week</th>\n",
              "      <th>Day</th>\n",
              "      <th>Day of week</th>\n",
              "    </tr>\n",
              "    <tr>\n",
              "      <th>Date</th>\n",
              "      <th></th>\n",
              "      <th></th>\n",
              "      <th></th>\n",
              "      <th></th>\n",
              "    </tr>\n",
              "  </thead>\n",
              "  <tbody>\n",
              "    <tr>\n",
              "      <th>2019-02-12</th>\n",
              "      <td>2</td>\n",
              "      <td>7</td>\n",
              "      <td>12</td>\n",
              "      <td>1</td>\n",
              "    </tr>\n",
              "    <tr>\n",
              "      <th>2019-02-13</th>\n",
              "      <td>2</td>\n",
              "      <td>7</td>\n",
              "      <td>13</td>\n",
              "      <td>2</td>\n",
              "    </tr>\n",
              "    <tr>\n",
              "      <th>2019-02-14</th>\n",
              "      <td>2</td>\n",
              "      <td>7</td>\n",
              "      <td>14</td>\n",
              "      <td>3</td>\n",
              "    </tr>\n",
              "    <tr>\n",
              "      <th>2019-02-15</th>\n",
              "      <td>2</td>\n",
              "      <td>7</td>\n",
              "      <td>15</td>\n",
              "      <td>4</td>\n",
              "    </tr>\n",
              "    <tr>\n",
              "      <th>2019-02-19</th>\n",
              "      <td>2</td>\n",
              "      <td>8</td>\n",
              "      <td>19</td>\n",
              "      <td>1</td>\n",
              "    </tr>\n",
              "  </tbody>\n",
              "</table>\n",
              "</div>"
            ],
            "text/plain": [
              "            Month  Week  Day  Day of week\n",
              "Date                                     \n",
              "2019-02-12      2     7   12            1\n",
              "2019-02-13      2     7   13            2\n",
              "2019-02-14      2     7   14            3\n",
              "2019-02-15      2     7   15            4\n",
              "2019-02-19      2     8   19            1"
            ]
          },
          "metadata": {
            "tags": []
          },
          "execution_count": 52
        }
      ]
    },
    {
      "cell_type": "markdown",
      "metadata": {
        "id": "4Kle53c0uB8r"
      },
      "source": [
        "#### Performing the Exploratory Data Analysis"
      ]
    },
    {
      "cell_type": "code",
      "metadata": {
        "colab": {
          "base_uri": "https://localhost:8080/",
          "height": 651
        },
        "id": "gtPIGXzHuKLe",
        "outputId": "b72f609a-4ca2-4112-ce55-26bb7394c272"
      },
      "source": [
        "#Size and style of the plot\n",
        "plt.figure(figsize = (15, 7))\n",
        "plt.style.use('seaborn-white')\n",
        "\n",
        "plt.subplot(231)\n",
        "sns.distplot(df_analysis['Open'])\n",
        "fig = plt.gcf()\n",
        "fig.set_size_inches(10,10)\n",
        "\n",
        "plt.subplot(232)\n",
        "sns.distplot(df_analysis['High'])\n",
        "fig = plt.gcf()\n",
        "fig.set_size_inches(10,10)\n",
        "\n",
        "plt.subplot(233)\n",
        "sns.distplot(df_analysis['Low'])\n",
        "fig = plt.gcf()\n",
        "fig.set_size_inches(10,10)\n",
        "\n",
        "plt.subplot(234)\n",
        "sns.distplot(df_analysis['Close'])\n",
        "fig = plt.gcf()\n",
        "fig.set_size_inches(10,10)\n",
        "\n",
        "plt.subplot(235)\n",
        "sns.distplot(df_analysis['Adj Close'])\n",
        "fig = plt.gcf()\n",
        "fig.set_size_inches(10,10)\n",
        "\n",
        "plt.subplot(236)\n",
        "sns.distplot(df_analysis['Volume'])\n",
        "fig = plt.gcf()\n",
        "fig.set_size_inches(10,10)"
      ],
      "execution_count": 53,
      "outputs": [
        {
          "output_type": "display_data",
          "data": {
            "image/png": "[encoded data removed]",
            "text/plain": [
              "<Figure size 720x720 with 6 Axes>"
            ]
          },
          "metadata": {
            "tags": []
          }
        }
      ]
    },
    {
      "cell_type": "code",
      "metadata": {
        "colab": {
          "base_uri": "https://localhost:8080/",
          "height": 532
        },
        "id": "CyKvPjIZvJet",
        "outputId": "ae5a55d2-8340-420f-d868-a097f3b7e7e3"
      },
      "source": [
        "### Plot the Graph based on Daily trade Based on Open,close etc features\n",
        "\n",
        "cols_plot = ['Open', 'Close', 'High','Low']\n",
        "axes = df_analysis[cols_plot].plot(marker='.', alpha=0.5, linestyle='None', figsize=(11, 9), subplots=True)\n",
        "for ax in axes:\n",
        "    ax.set_ylabel('Daily trade')"
      ],
      "execution_count": 54,
      "outputs": [
        {
          "output_type": "display_data",
          "data": {
            "image/png": "[encoded data removed]",
            "text/plain": [
              "<Figure size 792x648 with 4 Axes>"
            ]
          },
          "metadata": {
            "tags": []
          }
        }
      ]
    },
    {
      "cell_type": "markdown",
      "metadata": {
        "id": "FpvhRpmYvy9K"
      },
      "source": [
        "#### Data Transformation"
      ]
    },
    {
      "cell_type": "code",
      "metadata": {
        "colab": {
          "base_uri": "https://localhost:8080/",
          "height": 318
        },
        "id": "7JjV1iipvm4S",
        "outputId": "153f56fe-9fde-4442-f24b-e688b4924f0b"
      },
      "source": [
        "#setting index as date\n",
        "df['Date'] = pd.to_datetime(df.Date,format='%Y/%m/%d')\n",
        "df.index = df['Date']\n",
        "\n",
        "#plot\n",
        "plt.figure(figsize=(20,8))\n",
        "plt.plot(df['Close'], label='Historical Close Price')"
      ],
      "execution_count": 55,
      "outputs": [
        {
          "output_type": "execute_result",
          "data": {
            "text/plain": [
              "[<matplotlib.lines.Line2D at 0x7f6936d61a10>]"
            ]
          },
          "metadata": {
            "tags": []
          },
          "execution_count": 55
        },
        {
          "output_type": "display_data",
          "data": {
            "image/png": "[encoded data removed]",
            "text/plain": [
              "<Figure size 1440x576 with 1 Axes>"
            ]
          },
          "metadata": {
            "tags": []
          }
        }
      ]
    },
    {
      "cell_type": "markdown",
      "metadata": {
        "id": "JlkIg4PF0CCj"
      },
      "source": [
        "#### Creating a Train data for further analysis and prediction part"
      ]
    },
    {
      "cell_type": "code",
      "metadata": {
        "colab": {
          "base_uri": "https://localhost:8080/"
        },
        "id": "O_StV4KXVgYb",
        "outputId": "3744071f-faaf-4412-9d89-e4584757c16e"
      },
      "source": [
        "## Create a New dataframe with only the Close column\n",
        "data = df.filter(['Close'])\n",
        "\n",
        "## Convert the dataframe to a numpy array\n",
        "dataset = data.values\n",
        "\n",
        "## Get the number of rows to train the model on\n",
        "training_data_len = math.ceil(len(dataset)*.8 )\n",
        "training_data_len"
      ],
      "execution_count": 56,
      "outputs": [
        {
          "output_type": "execute_result",
          "data": {
            "text/plain": [
              "202"
            ]
          },
          "metadata": {
            "tags": []
          },
          "execution_count": 56
        }
      ]
    },
    {
      "cell_type": "markdown",
      "metadata": {
        "id": "hcIkKbfR0N-h"
      },
      "source": [
        "#### Scaling the data to run the model effectively "
      ]
    },
    {
      "cell_type": "code",
      "metadata": {
        "colab": {
          "base_uri": "https://localhost:8080/"
        },
        "id": "_gtNN7tHXRvW",
        "outputId": "006d3d12-677a-4095-8eb5-227f4236fcfd"
      },
      "source": [
        "## Scaling the Data\n",
        "scaler = MinMaxScaler(feature_range=(0,1))\n",
        "scaled_data = scaler.fit_transform(dataset)\n",
        "scaled_data"
      ],
      "execution_count": 57,
      "outputs": [
        {
          "output_type": "execute_result",
          "data": {
            "text/plain": [
              "array([[0.58598726],\n",
              "       [0.5955414 ],\n",
              "       [0.58280255],\n",
              "       [0.58280255],\n",
              "       [0.51592357],\n",
              "       [0.56369427],\n",
              "       [0.51592357],\n",
              "       [0.54140127],\n",
              "       [0.59872611],\n",
              "       [0.57324841],\n",
              "       [0.56369427],\n",
              "       [0.57006369],\n",
              "       [0.60828025],\n",
              "       [0.57006369],\n",
              "       [0.58598726],\n",
              "       [0.56687898],\n",
              "       [0.49681529],\n",
              "       [0.49044586],\n",
              "       [0.51592357],\n",
              "       [0.50636943],\n",
              "       [0.51592357],\n",
              "       [0.53184713],\n",
              "       [0.56369427],\n",
              "       [0.57006369],\n",
              "       [0.62738854],\n",
              "       [0.64012739],\n",
              "       [0.67834395],\n",
              "       [0.62101911],\n",
              "       [0.60191083],\n",
              "       [0.60191083],\n",
              "       [0.57324841],\n",
              "       [0.62101911],\n",
              "       [0.63694268],\n",
              "       [0.68789809],\n",
              "       [0.71656051],\n",
              "       [0.72292994],\n",
              "       [0.68152866],\n",
              "       [0.7611465 ],\n",
              "       [0.75796178],\n",
              "       [0.70700637],\n",
              "       [0.68471338],\n",
              "       [0.64968153],\n",
              "       [0.51592357],\n",
              "       [0.52229299],\n",
              "       [0.45859873],\n",
              "       [0.47133758],\n",
              "       [0.46496815],\n",
              "       [0.48407643],\n",
              "       [0.50955414],\n",
              "       [0.52547771],\n",
              "       [0.50636943],\n",
              "       [0.5477707 ],\n",
              "       [0.57961783],\n",
              "       [0.58280255],\n",
              "       [0.58598726],\n",
              "       [0.52229299],\n",
              "       [0.44585987],\n",
              "       [0.48407643],\n",
              "       [0.44904459],\n",
              "       [0.46496815],\n",
              "       [0.4044586 ],\n",
              "       [0.42356688],\n",
              "       [0.37579618],\n",
              "       [0.40764331],\n",
              "       [0.46496815],\n",
              "       [0.50318471],\n",
              "       [0.39490446],\n",
              "       [0.4044586 ],\n",
              "       [0.39808917],\n",
              "       [0.41082803],\n",
              "       [0.39171975],\n",
              "       [0.41401274],\n",
              "       [0.43630573],\n",
              "       [0.42675159],\n",
              "       [0.52229299],\n",
              "       [0.49044586],\n",
              "       [0.48407643],\n",
              "       [0.52547771],\n",
              "       [0.48089172],\n",
              "       [0.50955414],\n",
              "       [0.54140127],\n",
              "       [0.58917197],\n",
              "       [0.60828025],\n",
              "       [0.5955414 ],\n",
              "       [0.53821656],\n",
              "       [0.53184713],\n",
              "       [0.53184713],\n",
              "       [0.57961783],\n",
              "       [0.53184713],\n",
              "       [0.58598726],\n",
              "       [0.57006369],\n",
              "       [0.55732484],\n",
              "       [0.5477707 ],\n",
              "       [0.55095541],\n",
              "       [0.53821656],\n",
              "       [0.56369427],\n",
              "       [0.56369427],\n",
              "       [0.58280255],\n",
              "       [0.57643312],\n",
              "       [0.56050955],\n",
              "       [0.51910828],\n",
              "       [0.47452229],\n",
              "       [0.49363057],\n",
              "       [0.57006369],\n",
              "       [0.7866242 ],\n",
              "       [0.81847134],\n",
              "       [0.82802548],\n",
              "       [0.81528662],\n",
              "       [0.8343949 ],\n",
              "       [0.78343949],\n",
              "       [0.80573248],\n",
              "       [0.81528662],\n",
              "       [0.80573248],\n",
              "       [0.82484076],\n",
              "       [0.81210191],\n",
              "       [0.82165605],\n",
              "       [0.79299363],\n",
              "       [0.7611465 ],\n",
              "       [0.74203822],\n",
              "       [0.68471338],\n",
              "       [0.62738854],\n",
              "       [0.65923567],\n",
              "       [0.71019108],\n",
              "       [0.7388535 ],\n",
              "       [0.70063694],\n",
              "       [0.6910828 ],\n",
              "       [0.67834395],\n",
              "       [0.59235669],\n",
              "       [0.63694268],\n",
              "       [0.68152866],\n",
              "       [0.70063694],\n",
              "       [0.76433121],\n",
              "       [0.75477707],\n",
              "       [0.72611465],\n",
              "       [0.69426752],\n",
              "       [0.70063694],\n",
              "       [0.70700637],\n",
              "       [0.72292994],\n",
              "       [0.78343949],\n",
              "       [0.81528662],\n",
              "       [0.74840764],\n",
              "       [0.87579618],\n",
              "       [1.        ],\n",
              "       [0.91719745],\n",
              "       [0.86305732],\n",
              "       [0.8566879 ],\n",
              "       [0.84394904],\n",
              "       [0.87579618],\n",
              "       [0.9044586 ],\n",
              "       [0.90127389],\n",
              "       [0.87261146],\n",
              "       [0.88216561],\n",
              "       [0.85031847],\n",
              "       [0.77070064],\n",
              "       [0.65923567],\n",
              "       [0.67197452],\n",
              "       [0.67834395],\n",
              "       [0.70063694],\n",
              "       [0.72611465],\n",
              "       [0.77707006],\n",
              "       [0.67197452],\n",
              "       [0.68471338],\n",
              "       [0.71019108],\n",
              "       [0.72929936],\n",
              "       [0.75159236],\n",
              "       [0.69745223],\n",
              "       [0.71019108],\n",
              "       [0.71656051],\n",
              "       [0.64968153],\n",
              "       [0.53821656],\n",
              "       [0.55414013],\n",
              "       [0.53184713],\n",
              "       [0.52866242],\n",
              "       [0.52229299],\n",
              "       [0.11464968],\n",
              "       [0.02547771],\n",
              "       [0.03503185],\n",
              "       [0.        ],\n",
              "       [0.08598726],\n",
              "       [0.07324841],\n",
              "       [0.12101911],\n",
              "       [0.12420382],\n",
              "       [0.21019108],\n",
              "       [0.18789809],\n",
              "       [0.26433121],\n",
              "       [0.25159236],\n",
              "       [0.30254777],\n",
              "       [0.34713376],\n",
              "       [0.2388535 ],\n",
              "       [0.27388535],\n",
              "       [0.2611465 ],\n",
              "       [0.24840764],\n",
              "       [0.29936306],\n",
              "       [0.29617834],\n",
              "       [0.29617834],\n",
              "       [0.2866242 ],\n",
              "       [0.31528662],\n",
              "       [0.29936306],\n",
              "       [0.2133758 ],\n",
              "       [0.29936306],\n",
              "       [0.22929936],\n",
              "       [0.27070064],\n",
              "       [0.2866242 ],\n",
              "       [0.24203822],\n",
              "       [0.23566879],\n",
              "       [0.29617834],\n",
              "       [0.30573248],\n",
              "       [0.32165605],\n",
              "       [0.32165605],\n",
              "       [0.35350318],\n",
              "       [0.36305732],\n",
              "       [0.35031847],\n",
              "       [0.36624204],\n",
              "       [0.38216561],\n",
              "       [0.43312102],\n",
              "       [0.44585987],\n",
              "       [0.42675159],\n",
              "       [0.43312102],\n",
              "       [0.43312102],\n",
              "       [0.41719745],\n",
              "       [0.39490446],\n",
              "       [0.42356688],\n",
              "       [0.39171975],\n",
              "       [0.44267516],\n",
              "       [0.43312102],\n",
              "       [0.43949045],\n",
              "       [0.40764331],\n",
              "       [0.37261146],\n",
              "       [0.36942675],\n",
              "       [0.49363057],\n",
              "       [0.5477707 ],\n",
              "       [0.62101911],\n",
              "       [0.61464968],\n",
              "       [0.61146497],\n",
              "       [0.61146497],\n",
              "       [0.62101911],\n",
              "       [0.61146497],\n",
              "       [0.67197452],\n",
              "       [0.67834395],\n",
              "       [0.66878981],\n",
              "       [0.65605096],\n",
              "       [0.6910828 ],\n",
              "       [0.67834395],\n",
              "       [0.67834395],\n",
              "       [0.64649682],\n",
              "       [0.64012739],\n",
              "       [0.6910828 ],\n",
              "       [0.67197452],\n",
              "       [0.64649682],\n",
              "       [0.61146497],\n",
              "       [0.63375796],\n",
              "       [0.6433121 ]])"
            ]
          },
          "metadata": {
            "tags": []
          },
          "execution_count": 57
        }
      ]
    },
    {
      "cell_type": "markdown",
      "metadata": {
        "id": "iWy-p55O0eck"
      },
      "source": [
        "#### Creating the Train set of data for training the model"
      ]
    },
    {
      "cell_type": "code",
      "metadata": {
        "colab": {
          "base_uri": "https://localhost:8080/"
        },
        "id": "vGJI4FU1YDoO",
        "outputId": "bd208c0d-b94f-4237-a534-b8c65e085bba"
      },
      "source": [
        "## Create the training data set \n",
        "## create the scaled training data set\n",
        "train_data = scaled_data[0:training_data_len, :]\n",
        "\n",
        "## Split the data into X_train and y_train datasets\n",
        "\n",
        "x_train= []\n",
        "y_train= []\n",
        "\n",
        "for i in range(60, len(train_data)):\n",
        "  x_train.append(train_data[i-60:i, 0])\n",
        "  y_train.append(train_data[i,0])\n",
        "  if i<=61:\n",
        "    print(x_train)\n",
        "    print(y_train)\n",
        "    print()"
      ],
      "execution_count": 58,
      "outputs": [
        {
          "output_type": "stream",
          "text": [
            "[array([0.58598726, 0.5955414 , 0.58280255, 0.58280255, 0.51592357,\n",
            "       0.56369427, 0.51592357, 0.54140127, 0.59872611, 0.57324841,\n",
            "       0.56369427, 0.57006369, 0.60828025, 0.57006369, 0.58598726,\n",
            "       0.56687898, 0.49681529, 0.49044586, 0.51592357, 0.50636943,\n",
            "       0.51592357, 0.53184713, 0.56369427, 0.57006369, 0.62738854,\n",
            "       0.64012739, 0.67834395, 0.62101911, 0.60191083, 0.60191083,\n",
            "       0.57324841, 0.62101911, 0.63694268, 0.68789809, 0.71656051,\n",
            "       0.72292994, 0.68152866, 0.7611465 , 0.75796178, 0.70700637,\n",
            "       0.68471338, 0.64968153, 0.51592357, 0.52229299, 0.45859873,\n",
            "       0.47133758, 0.46496815, 0.48407643, 0.50955414, 0.52547771,\n",
            "       0.50636943, 0.5477707 , 0.57961783, 0.58280255, 0.58598726,\n",
            "       0.52229299, 0.44585987, 0.48407643, 0.44904459, 0.46496815])]\n",
            "[0.404458598726114]\n",
            "\n",
            "[array([0.58598726, 0.5955414 , 0.58280255, 0.58280255, 0.51592357,\n",
            "       0.56369427, 0.51592357, 0.54140127, 0.59872611, 0.57324841,\n",
            "       0.56369427, 0.57006369, 0.60828025, 0.57006369, 0.58598726,\n",
            "       0.56687898, 0.49681529, 0.49044586, 0.51592357, 0.50636943,\n",
            "       0.51592357, 0.53184713, 0.56369427, 0.57006369, 0.62738854,\n",
            "       0.64012739, 0.67834395, 0.62101911, 0.60191083, 0.60191083,\n",
            "       0.57324841, 0.62101911, 0.63694268, 0.68789809, 0.71656051,\n",
            "       0.72292994, 0.68152866, 0.7611465 , 0.75796178, 0.70700637,\n",
            "       0.68471338, 0.64968153, 0.51592357, 0.52229299, 0.45859873,\n",
            "       0.47133758, 0.46496815, 0.48407643, 0.50955414, 0.52547771,\n",
            "       0.50636943, 0.5477707 , 0.57961783, 0.58280255, 0.58598726,\n",
            "       0.52229299, 0.44585987, 0.48407643, 0.44904459, 0.46496815]), array([0.5955414 , 0.58280255, 0.58280255, 0.51592357, 0.56369427,\n",
            "       0.51592357, 0.54140127, 0.59872611, 0.57324841, 0.56369427,\n",
            "       0.57006369, 0.60828025, 0.57006369, 0.58598726, 0.56687898,\n",
            "       0.49681529, 0.49044586, 0.51592357, 0.50636943, 0.51592357,\n",
            "       0.53184713, 0.56369427, 0.57006369, 0.62738854, 0.64012739,\n",
            "       0.67834395, 0.62101911, 0.60191083, 0.60191083, 0.57324841,\n",
            "       0.62101911, 0.63694268, 0.68789809, 0.71656051, 0.72292994,\n",
            "       0.68152866, 0.7611465 , 0.75796178, 0.70700637, 0.68471338,\n",
            "       0.64968153, 0.51592357, 0.52229299, 0.45859873, 0.47133758,\n",
            "       0.46496815, 0.48407643, 0.50955414, 0.52547771, 0.50636943,\n",
            "       0.5477707 , 0.57961783, 0.58280255, 0.58598726, 0.52229299,\n",
            "       0.44585987, 0.48407643, 0.44904459, 0.46496815, 0.4044586 ])]\n",
            "[0.404458598726114, 0.4235668789808913]\n",
            "\n"
          ],
          "name": "stdout"
        }
      ]
    },
    {
      "cell_type": "code",
      "metadata": {
        "id": "puq1d8HudcMt"
      },
      "source": [
        "## convert the X_train and y_train to numpy arrays\n",
        "x_train, y_train = np.array(x_train),np.array(y_train)"
      ],
      "execution_count": 59,
      "outputs": []
    },
    {
      "cell_type": "code",
      "metadata": {
        "colab": {
          "base_uri": "https://localhost:8080/"
        },
        "id": "-_sWZ-2bdw1k",
        "outputId": "ffcd9748-c8f1-4da2-c28d-d914352feec3"
      },
      "source": [
        "## Reshape the x_train the data\n",
        "x_train = np.reshape(x_train,(x_train.shape[0],x_train.shape[1],1))\n",
        "x_train.shape"
      ],
      "execution_count": 60,
      "outputs": [
        {
          "output_type": "execute_result",
          "data": {
            "text/plain": [
              "(142, 60, 1)"
            ]
          },
          "metadata": {
            "tags": []
          },
          "execution_count": 60
        }
      ]
    },
    {
      "cell_type": "markdown",
      "metadata": {
        "id": "eEbItj-T0qhp"
      },
      "source": [
        "#### Building the LSTM model to the Trained data to the  Model for prediction"
      ]
    },
    {
      "cell_type": "code",
      "metadata": {
        "id": "AlvQM52UeBOP"
      },
      "source": [
        "### Building the LSTM model \n",
        "model = Sequential()\n",
        "model.add(LSTM(50,return_sequences=True,input_shape=(x_train.shape[1],1)))\n",
        "model.add(Dropout(rate = 0.2))\n",
        "\n",
        "model.add(LSTM(units=50, return_sequences = True))\n",
        "model.add(Dropout(rate = 0.2))\n",
        "\n",
        "model.add(LSTM(units=50, return_sequences = True))\n",
        "model.add(Dropout(rate = 0.2))\n",
        "\n",
        "model.add(LSTM(50,return_sequences=False))\n",
        "model.add(Dropout(rate = 0.2))\n",
        "\n",
        "model.add(Dense(25))\n",
        "model.add(Dense(1))"
      ],
      "execution_count": 61,
      "outputs": []
    },
    {
      "cell_type": "code",
      "metadata": {
        "id": "z0reRqYffUH3"
      },
      "source": [
        "## Compile the Model\n",
        "model.compile(optimizer='adam',loss='mean_squared_error')"
      ],
      "execution_count": 62,
      "outputs": []
    },
    {
      "cell_type": "code",
      "metadata": {
        "colab": {
          "base_uri": "https://localhost:8080/"
        },
        "id": "5w1CbtSMfqrA",
        "outputId": "581ef10a-dc9f-4d2b-cb5c-79174342011d"
      },
      "source": [
        "## Train the model\n",
        "model.fit(x_train, y_train, batch_size=30,epochs=50,verbose=1)"
      ],
      "execution_count": 63,
      "outputs": [
        {
          "output_type": "stream",
          "text": [
            "Epoch 1/50\n",
            "5/5 [==============================] - 5s 20ms/step - loss: 0.2690\n",
            "Epoch 2/50\n",
            "5/5 [==============================] - 0s 18ms/step - loss: 0.0673\n",
            "Epoch 3/50\n",
            "5/5 [==============================] - 0s 16ms/step - loss: 0.0591\n",
            "Epoch 4/50\n",
            "5/5 [==============================] - 0s 16ms/step - loss: 0.0468\n",
            "Epoch 5/50\n",
            "5/5 [==============================] - 0s 13ms/step - loss: 0.0450\n",
            "Epoch 6/50\n",
            "5/5 [==============================] - 0s 12ms/step - loss: 0.0387\n",
            "Epoch 7/50\n",
            "5/5 [==============================] - 0s 12ms/step - loss: 0.0353\n",
            "Epoch 8/50\n",
            "5/5 [==============================] - 0s 15ms/step - loss: 0.0320\n",
            "Epoch 9/50\n",
            "5/5 [==============================] - 0s 16ms/step - loss: 0.0392\n",
            "Epoch 10/50\n",
            "5/5 [==============================] - 0s 15ms/step - loss: 0.0330\n",
            "Epoch 11/50\n",
            "5/5 [==============================] - 0s 14ms/step - loss: 0.0370\n",
            "Epoch 12/50\n",
            "5/5 [==============================] - 0s 15ms/step - loss: 0.0375\n",
            "Epoch 13/50\n",
            "5/5 [==============================] - 0s 15ms/step - loss: 0.0248\n",
            "Epoch 14/50\n",
            "5/5 [==============================] - 0s 13ms/step - loss: 0.0290\n",
            "Epoch 15/50\n",
            "5/5 [==============================] - 0s 13ms/step - loss: 0.0259\n",
            "Epoch 16/50\n",
            "5/5 [==============================] - 0s 16ms/step - loss: 0.0317\n",
            "Epoch 17/50\n",
            "5/5 [==============================] - 0s 17ms/step - loss: 0.0264\n",
            "Epoch 18/50\n",
            "5/5 [==============================] - 0s 14ms/step - loss: 0.0340\n",
            "Epoch 19/50\n",
            "5/5 [==============================] - 0s 13ms/step - loss: 0.0315\n",
            "Epoch 20/50\n",
            "5/5 [==============================] - 0s 14ms/step - loss: 0.0322\n",
            "Epoch 21/50\n",
            "5/5 [==============================] - 0s 15ms/step - loss: 0.0191\n",
            "Epoch 22/50\n",
            "5/5 [==============================] - 0s 15ms/step - loss: 0.0256\n",
            "Epoch 23/50\n",
            "5/5 [==============================] - 0s 13ms/step - loss: 0.0286\n",
            "Epoch 24/50\n",
            "5/5 [==============================] - 0s 14ms/step - loss: 0.0223\n",
            "Epoch 25/50\n",
            "5/5 [==============================] - 0s 15ms/step - loss: 0.0284\n",
            "Epoch 26/50\n",
            "5/5 [==============================] - 0s 14ms/step - loss: 0.0273\n",
            "Epoch 27/50\n",
            "5/5 [==============================] - 0s 15ms/step - loss: 0.0230\n",
            "Epoch 28/50\n",
            "5/5 [==============================] - 0s 15ms/step - loss: 0.0260\n",
            "Epoch 29/50\n",
            "5/5 [==============================] - 0s 15ms/step - loss: 0.0225\n",
            "Epoch 30/50\n",
            "5/5 [==============================] - 0s 19ms/step - loss: 0.0241\n",
            "Epoch 31/50\n",
            "5/5 [==============================] - 0s 16ms/step - loss: 0.0245\n",
            "Epoch 32/50\n",
            "5/5 [==============================] - 0s 14ms/step - loss: 0.0271\n",
            "Epoch 33/50\n",
            "5/5 [==============================] - 0s 14ms/step - loss: 0.0224\n",
            "Epoch 34/50\n",
            "5/5 [==============================] - 0s 14ms/step - loss: 0.0218\n",
            "Epoch 35/50\n",
            "5/5 [==============================] - 0s 14ms/step - loss: 0.0214\n",
            "Epoch 36/50\n",
            "5/5 [==============================] - 0s 15ms/step - loss: 0.0189\n",
            "Epoch 37/50\n",
            "5/5 [==============================] - 0s 13ms/step - loss: 0.0238\n",
            "Epoch 38/50\n",
            "5/5 [==============================] - 0s 13ms/step - loss: 0.0223\n",
            "Epoch 39/50\n",
            "5/5 [==============================] - 0s 14ms/step - loss: 0.0240\n",
            "Epoch 40/50\n",
            "5/5 [==============================] - 0s 15ms/step - loss: 0.0234\n",
            "Epoch 41/50\n",
            "5/5 [==============================] - 0s 14ms/step - loss: 0.0234\n",
            "Epoch 42/50\n",
            "5/5 [==============================] - 0s 14ms/step - loss: 0.0267\n",
            "Epoch 43/50\n",
            "5/5 [==============================] - 0s 16ms/step - loss: 0.0233\n",
            "Epoch 44/50\n",
            "5/5 [==============================] - 0s 14ms/step - loss: 0.0227\n",
            "Epoch 45/50\n",
            "5/5 [==============================] - 0s 14ms/step - loss: 0.0270\n",
            "Epoch 46/50\n",
            "5/5 [==============================] - 0s 15ms/step - loss: 0.0193\n",
            "Epoch 47/50\n",
            "5/5 [==============================] - 0s 14ms/step - loss: 0.0205\n",
            "Epoch 48/50\n",
            "5/5 [==============================] - 0s 13ms/step - loss: 0.0200\n",
            "Epoch 49/50\n",
            "5/5 [==============================] - 0s 14ms/step - loss: 0.0180\n",
            "Epoch 50/50\n",
            "5/5 [==============================] - 0s 16ms/step - loss: 0.0200\n"
          ],
          "name": "stdout"
        },
        {
          "output_type": "execute_result",
          "data": {
            "text/plain": [
              "<keras.callbacks.History at 0x7f6936918f10>"
            ]
          },
          "metadata": {
            "tags": []
          },
          "execution_count": 63
        }
      ]
    },
    {
      "cell_type": "markdown",
      "metadata": {
        "id": "O9leXeY01FfC"
      },
      "source": [
        "#### Creating the Test data to make the model to give prediction on Unseen data"
      ]
    },
    {
      "cell_type": "code",
      "metadata": {
        "id": "A_fAxPnZgJHF"
      },
      "source": [
        "## Create the Testing dataset\n",
        "## create a new array containing scaled values from index 144 - 253 \n",
        "test_data = scaled_data[training_data_len -60: , :]\n",
        "## Create the data set X_test and y_test\n",
        "\n",
        "x_test= []\n",
        "y_test = dataset[training_data_len:,:]\n",
        "for i in range(60, len(test_data)):\n",
        "  x_test.append(test_data[i-60:i,0])"
      ],
      "execution_count": 65,
      "outputs": []
    },
    {
      "cell_type": "code",
      "metadata": {
        "id": "XW57IGp1jHLi"
      },
      "source": [
        "## Convert the data to a numpy array\n",
        "\n",
        "x_test = np.array(x_test)"
      ],
      "execution_count": 66,
      "outputs": []
    },
    {
      "cell_type": "code",
      "metadata": {
        "id": "0xwsRy-wjP3r"
      },
      "source": [
        "## Reshape the data\n",
        "\n",
        "x_test = np.reshape(x_test,(x_test.shape[0], x_test.shape[1],1))"
      ],
      "execution_count": 67,
      "outputs": []
    },
    {
      "cell_type": "code",
      "metadata": {
        "id": "spt_gys-jrAi"
      },
      "source": [
        "### Get the models predicted price values\n",
        "predictions = model.predict(x_test)\n",
        "predictions = scaler.inverse_transform(predictions)"
      ],
      "execution_count": 68,
      "outputs": []
    },
    {
      "cell_type": "code",
      "metadata": {
        "colab": {
          "base_uri": "https://localhost:8080/"
        },
        "id": "5A43RZJNkFID",
        "outputId": "d95c16b9-29d8-4452-aae4-e27edc3d73cb"
      },
      "source": [
        "### Evaluate the model \n",
        "## Evaluating the model using the Root mean squared error\n",
        "\n",
        "rmse = np.sqrt(np.mean(predictions-y_test)**2)\n",
        "rmse"
      ],
      "execution_count": 69,
      "outputs": [
        {
          "output_type": "execute_result",
          "data": {
            "text/plain": [
              "0.2066943473815919"
            ]
          },
          "metadata": {
            "tags": []
          },
          "execution_count": 69
        }
      ]
    },
    {
      "cell_type": "markdown",
      "metadata": {
        "id": "Ah8p8tlt1Trx"
      },
      "source": [
        "#### Plotting the Final results of the Model prediction "
      ]
    },
    {
      "cell_type": "code",
      "metadata": {
        "colab": {
          "base_uri": "https://localhost:8080/",
          "height": 392
        },
        "id": "xDBr0d8ykfa-",
        "outputId": "2541365e-2b88-438c-eec1-04273a5dfb0c"
      },
      "source": [
        "### Plot the data\n",
        "\n",
        "train = data[:training_data_len]\n",
        "valid = data[training_data_len:]\n",
        "valid['Predictions']=predictions\n",
        "\n",
        "## visualize the data\n",
        "plt.figure(figsize=(16,8))\n",
        "plt.title('Infosys Stock price prediction')\n",
        "plt.xlabel('Date',fontsize=18)\n",
        "plt.ylabel('Close price USD($)', fontsize=18)\n",
        "plt.plot(train['Close'])\n",
        "plt.plot(valid[['Close','Predictions']])\n",
        "plt.legend(['Trained_Model','Val','Predictions'], loc='lower right')\n",
        "plt.show()"
      ],
      "execution_count": 70,
      "outputs": [
        {
          "output_type": "display_data",
          "data": {
            "image/png": "[encoded data removed]",
            "text/plain": [
              "<Figure size 1152x576 with 1 Axes>"
            ]
          },
          "metadata": {
            "tags": []
          }
        }
      ]
    },
    {
      "cell_type": "code",
      "metadata": {
        "colab": {
          "base_uri": "https://localhost:8080/",
          "height": 1000
        },
        "id": "FcUYAYV6pJoT",
        "outputId": "a8f0974c-f726-4a54-f703-9a7acee9ceaf"
      },
      "source": [
        "## Show the Valid and Predicted Prices\n",
        "valid"
      ],
      "execution_count": 71,
      "outputs": [
        {
          "output_type": "execute_result",
          "data": {
            "text/html": [
              "<div>\n",
              "<style scoped>\n",
              "    .dataframe tbody tr th:only-of-type {\n",
              "        vertical-align: middle;\n",
              "    }\n",
              "\n",
              "    .dataframe tbody tr th {\n",
              "        vertical-align: top;\n",
              "    }\n",
              "\n",
              "    .dataframe thead th {\n",
              "        text-align: right;\n",
              "    }\n",
              "</style>\n",
              "<table border=\"1\" class=\"dataframe\">\n",
              "  <thead>\n",
              "    <tr style=\"text-align: right;\">\n",
              "      <th></th>\n",
              "      <th>Close</th>\n",
              "      <th>Predictions</th>\n",
              "    </tr>\n",
              "    <tr>\n",
              "      <th>Date</th>\n",
              "      <th></th>\n",
              "      <th></th>\n",
              "    </tr>\n",
              "  </thead>\n",
              "  <tbody>\n",
              "    <tr>\n",
              "      <th>2019-11-29</th>\n",
              "      <td>9.83</td>\n",
              "      <td>10.170829</td>\n",
              "    </tr>\n",
              "    <tr>\n",
              "      <th>2019-12-02</th>\n",
              "      <td>9.69</td>\n",
              "      <td>10.190572</td>\n",
              "    </tr>\n",
              "    <tr>\n",
              "      <th>2019-12-03</th>\n",
              "      <td>9.67</td>\n",
              "      <td>10.205967</td>\n",
              "    </tr>\n",
              "    <tr>\n",
              "      <th>2019-12-04</th>\n",
              "      <td>9.86</td>\n",
              "      <td>10.217191</td>\n",
              "    </tr>\n",
              "    <tr>\n",
              "      <th>2019-12-05</th>\n",
              "      <td>9.89</td>\n",
              "      <td>10.226296</td>\n",
              "    </tr>\n",
              "    <tr>\n",
              "      <th>2019-12-06</th>\n",
              "      <td>9.94</td>\n",
              "      <td>10.235285</td>\n",
              "    </tr>\n",
              "    <tr>\n",
              "      <th>2019-12-09</th>\n",
              "      <td>9.94</td>\n",
              "      <td>10.246044</td>\n",
              "    </tr>\n",
              "    <tr>\n",
              "      <th>2019-12-10</th>\n",
              "      <td>10.04</td>\n",
              "      <td>10.259360</td>\n",
              "    </tr>\n",
              "    <tr>\n",
              "      <th>2019-12-11</th>\n",
              "      <td>10.07</td>\n",
              "      <td>10.276001</td>\n",
              "    </tr>\n",
              "    <tr>\n",
              "      <th>2019-12-12</th>\n",
              "      <td>10.03</td>\n",
              "      <td>10.296301</td>\n",
              "    </tr>\n",
              "    <tr>\n",
              "      <th>2019-12-13</th>\n",
              "      <td>10.08</td>\n",
              "      <td>10.319600</td>\n",
              "    </tr>\n",
              "    <tr>\n",
              "      <th>2019-12-16</th>\n",
              "      <td>10.13</td>\n",
              "      <td>10.344973</td>\n",
              "    </tr>\n",
              "    <tr>\n",
              "      <th>2019-12-17</th>\n",
              "      <td>10.29</td>\n",
              "      <td>10.371791</td>\n",
              "    </tr>\n",
              "    <tr>\n",
              "      <th>2019-12-18</th>\n",
              "      <td>10.33</td>\n",
              "      <td>10.400846</td>\n",
              "    </tr>\n",
              "    <tr>\n",
              "      <th>2019-12-19</th>\n",
              "      <td>10.27</td>\n",
              "      <td>10.433127</td>\n",
              "    </tr>\n",
              "    <tr>\n",
              "      <th>2019-12-20</th>\n",
              "      <td>10.29</td>\n",
              "      <td>10.467772</td>\n",
              "    </tr>\n",
              "    <tr>\n",
              "      <th>2019-12-23</th>\n",
              "      <td>10.29</td>\n",
              "      <td>10.503505</td>\n",
              "    </tr>\n",
              "    <tr>\n",
              "      <th>2019-12-24</th>\n",
              "      <td>10.24</td>\n",
              "      <td>10.538839</td>\n",
              "    </tr>\n",
              "    <tr>\n",
              "      <th>2019-12-26</th>\n",
              "      <td>10.17</td>\n",
              "      <td>10.571906</td>\n",
              "    </tr>\n",
              "    <tr>\n",
              "      <th>2019-12-27</th>\n",
              "      <td>10.26</td>\n",
              "      <td>10.600204</td>\n",
              "    </tr>\n",
              "    <tr>\n",
              "      <th>2019-12-30</th>\n",
              "      <td>10.16</td>\n",
              "      <td>10.623510</td>\n",
              "    </tr>\n",
              "    <tr>\n",
              "      <th>2019-12-31</th>\n",
              "      <td>10.32</td>\n",
              "      <td>10.641028</td>\n",
              "    </tr>\n",
              "    <tr>\n",
              "      <th>2020-01-02</th>\n",
              "      <td>10.29</td>\n",
              "      <td>10.654162</td>\n",
              "    </tr>\n",
              "    <tr>\n",
              "      <th>2020-01-03</th>\n",
              "      <td>10.31</td>\n",
              "      <td>10.664160</td>\n",
              "    </tr>\n",
              "    <tr>\n",
              "      <th>2020-01-06</th>\n",
              "      <td>10.21</td>\n",
              "      <td>10.672034</td>\n",
              "    </tr>\n",
              "    <tr>\n",
              "      <th>2020-01-07</th>\n",
              "      <td>10.10</td>\n",
              "      <td>10.677570</td>\n",
              "    </tr>\n",
              "    <tr>\n",
              "      <th>2020-01-08</th>\n",
              "      <td>10.09</td>\n",
              "      <td>10.679201</td>\n",
              "    </tr>\n",
              "    <tr>\n",
              "      <th>2020-01-09</th>\n",
              "      <td>10.48</td>\n",
              "      <td>10.675810</td>\n",
              "    </tr>\n",
              "    <tr>\n",
              "      <th>2020-01-10</th>\n",
              "      <td>10.65</td>\n",
              "      <td>10.671358</td>\n",
              "    </tr>\n",
              "    <tr>\n",
              "      <th>2020-01-13</th>\n",
              "      <td>10.88</td>\n",
              "      <td>10.671441</td>\n",
              "    </tr>\n",
              "    <tr>\n",
              "      <th>2020-01-14</th>\n",
              "      <td>10.86</td>\n",
              "      <td>10.681882</td>\n",
              "    </tr>\n",
              "    <tr>\n",
              "      <th>2020-01-15</th>\n",
              "      <td>10.85</td>\n",
              "      <td>10.705212</td>\n",
              "    </tr>\n",
              "    <tr>\n",
              "      <th>2020-01-16</th>\n",
              "      <td>10.85</td>\n",
              "      <td>10.740686</td>\n",
              "    </tr>\n",
              "    <tr>\n",
              "      <th>2020-01-17</th>\n",
              "      <td>10.88</td>\n",
              "      <td>10.785117</td>\n",
              "    </tr>\n",
              "    <tr>\n",
              "      <th>2020-01-21</th>\n",
              "      <td>10.85</td>\n",
              "      <td>10.835389</td>\n",
              "    </tr>\n",
              "    <tr>\n",
              "      <th>2020-01-22</th>\n",
              "      <td>11.04</td>\n",
              "      <td>10.887598</td>\n",
              "    </tr>\n",
              "    <tr>\n",
              "      <th>2020-01-23</th>\n",
              "      <td>11.06</td>\n",
              "      <td>10.940534</td>\n",
              "    </tr>\n",
              "    <tr>\n",
              "      <th>2020-01-24</th>\n",
              "      <td>11.03</td>\n",
              "      <td>10.993520</td>\n",
              "    </tr>\n",
              "    <tr>\n",
              "      <th>2020-01-27</th>\n",
              "      <td>10.99</td>\n",
              "      <td>11.044897</td>\n",
              "    </tr>\n",
              "    <tr>\n",
              "      <th>2020-01-28</th>\n",
              "      <td>11.10</td>\n",
              "      <td>11.092479</td>\n",
              "    </tr>\n",
              "    <tr>\n",
              "      <th>2020-01-29</th>\n",
              "      <td>11.06</td>\n",
              "      <td>11.135803</td>\n",
              "    </tr>\n",
              "    <tr>\n",
              "      <th>2020-01-30</th>\n",
              "      <td>11.06</td>\n",
              "      <td>11.174170</td>\n",
              "    </tr>\n",
              "    <tr>\n",
              "      <th>2020-01-31</th>\n",
              "      <td>10.96</td>\n",
              "      <td>11.206781</td>\n",
              "    </tr>\n",
              "    <tr>\n",
              "      <th>2020-02-03</th>\n",
              "      <td>10.94</td>\n",
              "      <td>11.231966</td>\n",
              "    </tr>\n",
              "    <tr>\n",
              "      <th>2020-02-04</th>\n",
              "      <td>11.10</td>\n",
              "      <td>11.248346</td>\n",
              "    </tr>\n",
              "    <tr>\n",
              "      <th>2020-02-05</th>\n",
              "      <td>11.04</td>\n",
              "      <td>11.258066</td>\n",
              "    </tr>\n",
              "    <tr>\n",
              "      <th>2020-02-06</th>\n",
              "      <td>10.96</td>\n",
              "      <td>11.262421</td>\n",
              "    </tr>\n",
              "    <tr>\n",
              "      <th>2020-02-07</th>\n",
              "      <td>10.85</td>\n",
              "      <td>11.261175</td>\n",
              "    </tr>\n",
              "    <tr>\n",
              "      <th>2020-02-10</th>\n",
              "      <td>10.92</td>\n",
              "      <td>11.253141</td>\n",
              "    </tr>\n",
              "    <tr>\n",
              "      <th>2020-02-11</th>\n",
              "      <td>10.95</td>\n",
              "      <td>11.238849</td>\n",
              "    </tr>\n",
              "  </tbody>\n",
              "</table>\n",
              "</div>"
            ],
            "text/plain": [
              "            Close  Predictions\n",
              "Date                          \n",
              "2019-11-29   9.83    10.170829\n",
              "2019-12-02   9.69    10.190572\n",
              "2019-12-03   9.67    10.205967\n",
              "2019-12-04   9.86    10.217191\n",
              "2019-12-05   9.89    10.226296\n",
              "2019-12-06   9.94    10.235285\n",
              "2019-12-09   9.94    10.246044\n",
              "2019-12-10  10.04    10.259360\n",
              "2019-12-11  10.07    10.276001\n",
              "2019-12-12  10.03    10.296301\n",
              "2019-12-13  10.08    10.319600\n",
              "2019-12-16  10.13    10.344973\n",
              "2019-12-17  10.29    10.371791\n",
              "2019-12-18  10.33    10.400846\n",
              "2019-12-19  10.27    10.433127\n",
              "2019-12-20  10.29    10.467772\n",
              "2019-12-23  10.29    10.503505\n",
              "2019-12-24  10.24    10.538839\n",
              "2019-12-26  10.17    10.571906\n",
              "2019-12-27  10.26    10.600204\n",
              "2019-12-30  10.16    10.623510\n",
              "2019-12-31  10.32    10.641028\n",
              "2020-01-02  10.29    10.654162\n",
              "2020-01-03  10.31    10.664160\n",
              "2020-01-06  10.21    10.672034\n",
              "2020-01-07  10.10    10.677570\n",
              "2020-01-08  10.09    10.679201\n",
              "2020-01-09  10.48    10.675810\n",
              "2020-01-10  10.65    10.671358\n",
              "2020-01-13  10.88    10.671441\n",
              "2020-01-14  10.86    10.681882\n",
              "2020-01-15  10.85    10.705212\n",
              "2020-01-16  10.85    10.740686\n",
              "2020-01-17  10.88    10.785117\n",
              "2020-01-21  10.85    10.835389\n",
              "2020-01-22  11.04    10.887598\n",
              "2020-01-23  11.06    10.940534\n",
              "2020-01-24  11.03    10.993520\n",
              "2020-01-27  10.99    11.044897\n",
              "2020-01-28  11.10    11.092479\n",
              "2020-01-29  11.06    11.135803\n",
              "2020-01-30  11.06    11.174170\n",
              "2020-01-31  10.96    11.206781\n",
              "2020-02-03  10.94    11.231966\n",
              "2020-02-04  11.10    11.248346\n",
              "2020-02-05  11.04    11.258066\n",
              "2020-02-06  10.96    11.262421\n",
              "2020-02-07  10.85    11.261175\n",
              "2020-02-10  10.92    11.253141\n",
              "2020-02-11  10.95    11.238849"
            ]
          },
          "metadata": {
            "tags": []
          },
          "execution_count": 71
        }
      ]
    }
  ]
}